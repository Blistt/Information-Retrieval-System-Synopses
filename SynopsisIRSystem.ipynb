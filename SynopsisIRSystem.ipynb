{
  "nbformat": 4,
  "nbformat_minor": 0,
  "metadata": {
    "colab": {
      "provenance": [],
      "collapsed_sections": [],
      "authorship_tag": "ABX9TyN10hMrLAox399KeG5kdfia",
      "include_colab_link": true
    },
    "kernelspec": {
      "name": "python3",
      "display_name": "Python 3"
    },
    "language_info": {
      "name": "python"
    }
  },
  "cells": [
    {
      "cell_type": "markdown",
      "metadata": {
        "id": "view-in-github",
        "colab_type": "text"
      },
      "source": [
        "<a href=\"https://colab.research.google.com/github/Blistt/Information-Retrieval-System-Synopses/blob/main/SynopsisIRSystem.ipynb\" target=\"_parent\"><img src=\"https://colab.research.google.com/assets/colab-badge.svg\" alt=\"Open In Colab\"/></a>"
      ]
    },
    {
      "cell_type": "code",
      "source": [
        "from google.colab import drive\n",
        "drive.mount('/content/drive')"
      ],
      "metadata": {
        "id": "T4bkieQIH112",
        "colab": {
          "base_uri": "https://localhost:8080/"
        },
        "outputId": "8555c65e-aa76-4e88-a476-b812037e2740"
      },
      "execution_count": null,
      "outputs": [
        {
          "output_type": "stream",
          "name": "stdout",
          "text": [
            "Mounted at /content/drive\n"
          ]
        }
      ]
    },
    {
      "cell_type": "markdown",
      "source": [
        "Functions to **read** csv with animes' synopsis & **tokenize** them"
      ],
      "metadata": {
        "id": "PBt9BtyuS8og"
      }
    },
    {
      "cell_type": "code",
      "source": [
        "import nltk\n",
        "import pandas as pd\n",
        "nltk.download('punkt')\n",
        "from nltk.tokenize import word_tokenize\n",
        "from nltk.corpus import stopwords\n",
        "nltk.download('stopwords')\n",
        "from nltk.stem import PorterStemmer\n",
        "from sklearn.feature_extraction.text import TfidfVectorizer\n",
        "import numpy as np\n",
        "from ast import literal_eval\n",
        "\n",
        "def reader(path, num_sim_shows):\n",
        "  df = pd.read_csv(path)\n",
        "  print(df.shape, 'shows without cleaning')\n",
        "  df = df[pd.notna(df['similar_shows'])]\n",
        "  print(df.shape, 'shows after removing null values for similar shows')\n",
        "\n",
        "  # Discards shows without synopsis\n",
        "  df = df[pd.notna(df['synopsis'])]\n",
        "  print(df.shape, 'shows after removing null values for synopsis')\n",
        "  df['similar_shows'] = df['similar_shows'].str.replace(\"'\",'')\\\n",
        "\n",
        "  # Converts csv cell values from String to List\n",
        "  df['similar_shows'] = df['similar_shows'].map(lambda x: literal_eval(x))\n",
        "\n",
        "  # Removes similar shows not in dataset\n",
        "  all_shows = list(df['uid'])\n",
        "  total_sim_shows = sum(df['similar_shows'].str.len())\n",
        "  df['similar_shows'] = df['similar_shows'].map(lambda x: [i for i in x if i in all_shows])\n",
        "  print('total similar shows:', total_sim_shows)\n",
        "  print('total removed shows:', total_sim_shows - sum(df['similar_shows'].str.len()))\n",
        "\n",
        "  # Removes shows without at least 'num_sim_shows' number of similar shows\n",
        "  more_than = df['similar_shows'].map(lambda x: True if len(x) >= num_sim_shows else False)\n",
        "  df = df[more_than]\n",
        "  print(df.shape, 'shows with at least', num_sim_shows, 'similar shows')\n",
        "  df = df.reset_index(drop=True)\n",
        "\n",
        "  return df"
      ],
      "metadata": {
        "id": "QYdIEqWdaIob",
        "colab": {
          "base_uri": "https://localhost:8080/"
        },
        "outputId": "bcbf835a-1daa-42c9-f04e-f4ae203d9b89"
      },
      "execution_count": null,
      "outputs": [
        {
          "output_type": "stream",
          "name": "stderr",
          "text": [
            "[nltk_data] Downloading package punkt to /root/nltk_data...\n",
            "[nltk_data]   Unzipping tokenizers/punkt.zip.\n",
            "[nltk_data] Downloading package stopwords to /root/nltk_data...\n",
            "[nltk_data]   Unzipping corpora/stopwords.zip.\n"
          ]
        }
      ]
    },
    {
      "cell_type": "code",
      "source": [
        "df = reader('/content/drive/MyDrive/SynopsisIRSystem/tokenized_animes_with_userrecs.csv', 1)\n",
        "print('Sample Synopsis\\n', 'Show:', df.loc[387, 'title'] + '\\n' + df.loc[387, 'synopsis'])\n",
        "print()"
      ],
      "metadata": {
        "id": "jsm7V6SBPb43",
        "colab": {
          "base_uri": "https://localhost:8080/"
        },
        "outputId": "bad638c2-a3b0-4949-b3fc-c1892790274c"
      },
      "execution_count": null,
      "outputs": [
        {
          "output_type": "stream",
          "name": "stdout",
          "text": [
            "(3151, 14) shows without cleaning\n",
            "(3151, 14) shows after removing null values for similar shows\n",
            "(3151, 14) shows after removing null values for synopsis\n",
            "total similar shows: 78981\n",
            "total removed shows: 9692\n",
            "(3147, 14) shows with at least 1 similar shows\n",
            "Sample Synopsis\n",
            " Show: Sayonara Zetsubou Sensei\n",
            " nozomu itoshiki high school teacher pessimist even smallest misfortun send pit rage despair ; `` catastroph '' even lead suicid attempt . sayonara zetsub sensei satir slice-of-lif comedi set modern day , cover variou aspect japanes life cultur nozomu interact student : kiri komori , reclus refus leav school ; abiru kobushi , enigma frequent arriv class sever mysteri injuri ; hyper-optimist kafuuka fuura , nozomu 's polar opposit ; sever unusu girl , eccentr teacher . [ written mal rewrit ]\n",
            "\n"
          ]
        }
      ]
    },
    {
      "cell_type": "markdown",
      "source": [
        "Creates Bag of Words (Tfidf Matrix)"
      ],
      "metadata": {
        "id": "KGLZn_7Q4Pea"
      }
    },
    {
      "cell_type": "code",
      "source": [
        "# Creates a TD-IDF matrix\n",
        "def TfidfGenerator(df):\n",
        "  synopses = list(df['synopsis'])\n",
        "\n",
        "  for i, sample in enumerate(synopses):\n",
        "    if isinstance(sample,float):\n",
        "      print(i)\n",
        "      print(str(sample))\n",
        "  vectorizer = TfidfVectorizer()\n",
        "  vectors = vectorizer.fit_transform(synopses)\n",
        "  feature_names = vectorizer.get_feature_names_out()\n",
        "  dense = vectors.todense()\n",
        "  denselist = dense.tolist()\n",
        "  tfidf_matrix = pd.DataFrame(denselist, columns=feature_names)\n",
        "  print(tfidf_matrix.head())\n",
        "  return tfidf_matrix"
      ],
      "metadata": {
        "id": "es0nOJGbmspS"
      },
      "execution_count": null,
      "outputs": []
    },
    {
      "cell_type": "code",
      "source": [
        "tfidf_matrix = TfidfGenerator(df)"
      ],
      "metadata": {
        "colab": {
          "base_uri": "https://localhost:8080/"
        },
        "id": "4BH-cxfL4MVi",
        "outputId": "4c0683f5-bc97-4ab0-8105-96ce30814869"
      },
      "execution_count": null,
      "outputs": [
        {
          "output_type": "stream",
          "name": "stdout",
          "text": [
            "    00  000  001  0015  0060  0068  0071  0079  0083  0087  ...  zutto  \\\n",
            "0  0.0  0.0  0.0   0.0   0.0   0.0   0.0   0.0   0.0   0.0  ...    0.0   \n",
            "1  0.0  0.0  0.0   0.0   0.0   0.0   0.0   0.0   0.0   0.0  ...    0.0   \n",
            "2  0.0  0.0  0.0   0.0   0.0   0.0   0.0   0.0   0.0   0.0  ...    0.0   \n",
            "3  0.0  0.0  0.0   0.0   0.0   0.0   0.0   0.0   0.0   0.0  ...    0.0   \n",
            "4  0.0  0.0  0.0   0.0   0.0   0.0   0.0   0.0   0.0   0.0  ...    0.0   \n",
            "\n",
            "   zvezda  zwei  éclair  élénoir  état  öhi  österreich  üso  ōtorii  \n",
            "0     0.0   0.0     0.0      0.0   0.0  0.0         0.0  0.0     0.0  \n",
            "1     0.0   0.0     0.0      0.0   0.0  0.0         0.0  0.0     0.0  \n",
            "2     0.0   0.0     0.0      0.0   0.0  0.0         0.0  0.0     0.0  \n",
            "3     0.0   0.0     0.0      0.0   0.0  0.0         0.0  0.0     0.0  \n",
            "4     0.0   0.0     0.0      0.0   0.0  0.0         0.0  0.0     0.0  \n",
            "\n",
            "[5 rows x 19008 columns]\n"
          ]
        }
      ]
    },
    {
      "cell_type": "markdown",
      "source": [
        "Initializes Knn Algorithm"
      ],
      "metadata": {
        "id": "kZyYTLWY19BC"
      }
    },
    {
      "cell_type": "code",
      "source": [
        "import numpy as np\n",
        "from sklearn.neighbors import NearestNeighbors\n",
        "\n",
        "number_of_shows = 100\n",
        "\n",
        "knnbr = NearestNeighbors(n_neighbors = number_of_shows, metric = 'euclidean', algorithm = 'ball_tree').fit(tfidf_matrix)\n",
        "print('knn algorithm finished fitting td-idf matrix')"
      ],
      "metadata": {
        "id": "gPVOF18JVRdd",
        "colab": {
          "base_uri": "https://localhost:8080/"
        },
        "outputId": "7e34dc53-5097-4b00-d67e-878d6d5e56f8"
      },
      "execution_count": null,
      "outputs": [
        {
          "output_type": "stream",
          "name": "stdout",
          "text": [
            "knn algorithm finished fitting td-idf matrix\n"
          ]
        }
      ]
    },
    {
      "cell_type": "markdown",
      "source": [
        "Generates recommendations for a given set of queries (test_set)"
      ],
      "metadata": {
        "id": "khTEqWTKrND5"
      }
    },
    {
      "cell_type": "code",
      "source": [
        "test_size = 100\n",
        "\n",
        "test_set = df[:test_size]\n",
        "test_set = test_set.reset_index(drop=True)\n",
        "test_set_matrix = tfidf_matrix[:test_size]\n",
        "test_set_matrix.reset_index(drop=True)\n",
        "\n",
        "\n",
        "# The set of K Nearest Neighobrs is added as recommendations to each show in the test set\n",
        "knn = knnbr.kneighbors(test_set_matrix)\n",
        "test_set.insert(test_set.shape[1], 'recs', '')\n",
        "for i, show_recs in enumerate(knn[1]):\n",
        "  # Adds only the id number\n",
        "  test_set.at[i,'recs'] = (list(df.loc[show_recs, 'uid']))[1:]\n",
        "\n",
        "print('Test set created with', test_set.shape[0], 'elements')"
      ],
      "metadata": {
        "id": "v3iN03X4HaxW",
        "colab": {
          "base_uri": "https://localhost:8080/"
        },
        "outputId": "e8273f62-6c2e-42a1-dded-d55d5f0ffb56"
      },
      "execution_count": null,
      "outputs": [
        {
          "output_type": "stream",
          "name": "stdout",
          "text": [
            "Test set created with 100 elements\n"
          ]
        }
      ]
    },
    {
      "cell_type": "markdown",
      "source": [
        "Computes precision and recall"
      ],
      "metadata": {
        "id": "Xjmoj5zz0N7A"
      }
    },
    {
      "cell_type": "code",
      "source": [
        "def get_precision_and_recall(test_set):\n",
        "  for i in range(test_set.shape[0]):\n",
        "    hits = sum(el in test_set.loc[i, 'recs'] for el in  test_set.loc[i, 'similar_shows'])\n",
        "    test_set.loc[i, 'precision'] = hits / len(test_set.loc[i, 'recs'])\n",
        "    test_set.loc[i, 'recall'] = hits / len(test_set.loc[i, 'similar_shows'])\n",
        "  precision = test_set['precision'].mean()\n",
        "  recall = test_set['recall'].mean()\n",
        "  return precision, recall"
      ],
      "metadata": {
        "id": "lP4xui6EJjJK"
      },
      "execution_count": null,
      "outputs": []
    },
    {
      "cell_type": "code",
      "source": [
        "precision, recall = get_precision_and_recall(test_set)\n",
        "print('PRECISION:', precision)\n",
        "print('RECALL:', recall)"
      ],
      "metadata": {
        "id": "kLw-p0m25IYo",
        "colab": {
          "base_uri": "https://localhost:8080/"
        },
        "outputId": "099f4a5b-9bd6-431b-9b39-783a48a782a6"
      },
      "execution_count": null,
      "outputs": [
        {
          "output_type": "stream",
          "name": "stdout",
          "text": [
            "PRECISION: 0.07707070707070707\n",
            "RECALL: 0.13419940220068086\n"
          ]
        }
      ]
    },
    {
      "cell_type": "markdown",
      "source": [
        "Get Mean Average Precision"
      ],
      "metadata": {
        "id": "2CGe-CbeLtYK"
      }
    },
    {
      "cell_type": "code",
      "source": [
        "def get_mean_average_precision(test_set):\n",
        "\n",
        "  temp_precision = 0  \n",
        "  # Iterates over all queries Q\n",
        "  for i in range(test_set.shape[0]):\n",
        "\n",
        "    # Iterates over a query's set of relevant results (list of similar shows)\n",
        "    for sim_show in test_set.loc[i, 'similar_shows']:\n",
        "      j = test_set.loc[i,'recs'].index(sim_show) + 1   # Gets index of curent relevant show in list of similar shows\n",
        "      relevant_set = test_set.loc[i,'recs'][:j]\n",
        "      hits = sum(el in relevant_set for el in  test_set.loc[i, 'similar_shows'])\n",
        "      query_precision =  (hits / len(test_set.loc[i, 'recs'])) / len(relevant_set)\n",
        "    \n",
        "    temp_precision += query_precision / (i+1)\n",
        "\n",
        "  mean_average_precision = temp_precision / test_set.shape[0]\n",
        "  return(mean_average_precision)\n",
        "\n"
      ],
      "metadata": {
        "id": "j7JtIe7FLtIi"
      },
      "execution_count": null,
      "outputs": []
    },
    {
      "cell_type": "code",
      "source": [
        "mean_average_precision = get_mean_average_precision(test_set)\n",
        "print(mean_average_precision)"
      ],
      "metadata": {
        "colab": {
          "base_uri": "https://localhost:8080/"
        },
        "id": "LkFuOt6pu_NR",
        "outputId": "9be70dd3-00ba-4cf1-908b-cb2009a11d10"
      },
      "execution_count": null,
      "outputs": [
        {
          "output_type": "stream",
          "name": "stdout",
          "text": [
            "9.934086594178099e-07\n"
          ]
        }
      ]
    },
    {
      "cell_type": "markdown",
      "source": [
        "Test cases of recommendations: shows list of recommendations for a given query"
      ],
      "metadata": {
        "id": "H3wR56pPTd8I"
      }
    },
    {
      "cell_type": "code",
      "source": [
        "knn = knnbr.kneighbors(tfidf_matrix[0:3])\n",
        "\n",
        "for i, show in enumerate(knn[1]):\n",
        "  print('Getting recommendations for:', df.loc[i,'title'])\n",
        "  for j, index in enumerate(show):\n",
        "    if j != 0:\n",
        "      print(j, df.loc[index, 'title'])\n",
        "  print('-------------------------------------------------------------')"
      ],
      "metadata": {
        "id": "sBXcDvtJKU2B",
        "colab": {
          "base_uri": "https://localhost:8080/"
        },
        "outputId": "0ed30ab3-f3de-417f-c078-e84d71c4e950"
      },
      "execution_count": null,
      "outputs": [
        {
          "output_type": "stream",
          "name": "stdout",
          "text": [
            "Getting recommendations for: Fullmetal Alchemist: Brotherhood\n",
            "1 Fullmetal Alchemist\n",
            "2 Joker Game\n",
            "3 Escha & Logy no Atelier: Tasogare no Sora no Renkinjutsushi\n",
            "4 Kaze no Shoujo Emily\n",
            "5 Da Yu Hai Tang (Movie)\n",
            "6 Oniichan dakedo Ai sae Areba Kankeinai yo ne!\n",
            "7 Baccano!\n",
            "8 No Game No Life: Zero\n",
            "9 Solty Rei\n",
            "10 Code Geass: Boukoku no Akito 2 - Hikisakareshi Yokuryuu\n",
            "11 Cowboy Bebop: Tengoku no Tobira\n",
            "12 Kyokou Suiri\n",
            "13 Suisei no Gargantia\n",
            "14 Kidou Keisatsu Patlabor the Movie\n",
            "15 Garo: Vanishing Line\n",
            "16 Blue Drop: Tenshi-tachi no Gikyoku\n",
            "17 Dororo to Hyakkimaru\n",
            "18 Kino no Tabi: The Beautiful World\n",
            "19 Kidou Keisatsu Patlabor\n",
            "20 Touch\n",
            "21 Dororo\n",
            "22 Cowboy Bebop\n",
            "23 Kaiba\n",
            "24 Gyo\n",
            "25 Wan Jie Xian Zong\n",
            "26 Loveless\n",
            "27 Sword Art Online: Alicization\n",
            "28 California Crisis: Tsuigeki no Juuka\n",
            "29 Gosick\n",
            "30 Choujin Gakuen Gowcaizer: The Voltage Fighters\n",
            "31 Shisha no Teikoku\n",
            "32 Fuyu no Semi\n",
            "33 Galaxy Angel\n",
            "34 Heisei Tanuki Gassen Ponpoko\n",
            "35 Heroic Age\n",
            "36 Omoide Poroporo\n",
            "37 Suki de Suki de, Suki de The Animation\n",
            "38 Xing Chen Bian\n",
            "39 Seimei no Kagaku: Micro Patrol\n",
            "40 0:08\n",
            "41 Sousei no Aquarion\n",
            "42 Karas\n",
            "43 Brothers Conflict\n",
            "44 Rakuen Tsuihou\n",
            "45 Brave Beats\n",
            "46 Le Chevalier D'Eon\n",
            "47 Koukaku Kidoutai\n",
            "48 Ginga Tetsudou 999 (Movie)\n",
            "49 Dies Irae\n",
            "50 Groove Adventure Rave\n",
            "51 Dance with Devils\n",
            "52 Arc the Lad\n",
            "53 Casshern Sins\n",
            "54 RD Sennou Chousashitsu\n",
            "55 Freezing\n",
            "56 Street Fighter II V\n",
            "57 Military!\n",
            "58 Soukou no Strain\n",
            "59 Mobile Suit Gundam SEED Destiny\n",
            "60 Ai Tenshi Densetsu Wedding Peach\n",
            "61 Chikyuu Shoujo Arjuna\n",
            "62 Garo: Honoo no Kokuin\n",
            "63 Hyper Police\n",
            "64 Kyoukaisenjou no Horizon\n",
            "65 Blue Gender\n",
            "66 Jikuu Tantei Genshi-kun\n",
            "67 Idol☆Sister\n",
            "68 Senki Zesshou Symphogear AXZ\n",
            "69 Zero kara Hajimeru Mahou no Sho\n",
            "70 Yoroiden Samurai Troopers\n",
            "71 Code Geass: Boukoku no Akito 1 - Yokuryuu wa Maiorita\n",
            "72 Shuumatsu Nani Shitemasu ka? Isogashii Desu ka? Sukutte Moratte Ii Desu ka?\n",
            "73 Giovanni no Shima\n",
            "74 Gakuen Babysitters\n",
            "75 Zankyou no Terror\n",
            "76 Choujin Koukousei-tachi wa Isekai demo Yoyuu de Ikinuku you desu!\n",
            "77 Strike Witches\n",
            "78 No Game No Life\n",
            "79 Hybrid Child\n",
            "80 Hentai Ouji to Warawanai Neko.\n",
            "81 Kamigami no Asobi\n",
            "82 Asatte no Houkou.\n",
            "83 Sasami-san@Ganbaranai\n",
            "84 Junjou Romantica\n",
            "85 Kakugo no Susume\n",
            "86 Aquarion Evol\n",
            "87 Juubee Ninpuuchou\n",
            "88 Schwarzesmarken\n",
            "89 Shingeki no Bahamut: Virgin Soul\n",
            "90 Ginga Tetsudou 999\n",
            "91 Final Fantasy: The Spirits Within\n",
            "92 Kekkai Sensen & Beyond\n",
            "93 Akachan to Boku\n",
            "94 Super Lovers\n",
            "95 Soul Eater\n",
            "96 Gaist Crusher\n",
            "97 Sugar Sugar Rune\n",
            "98 Hoshizora e Kakaru Hashi\n",
            "99 Gantz:O\n",
            "-------------------------------------------------------------\n",
            "Getting recommendations for: Hunter x Hunter (2011)\n",
            "1 Tanken Driland\n",
            "2 Vampire Hunter D (2000)\n",
            "3 Angel Heart\n",
            "4 Neo Angelique Abyss: Second Age\n",
            "5 Angel Cop\n",
            "6 Spider Riders: Oracle no Yuusha-tachi\n",
            "7 Pussycat\n",
            "8 Space Adventure Cobra\n",
            "9 City Hunter\n",
            "10 Black Cat\n",
            "11 Iria: Zeiram The Animation\n",
            "12 Solty Rei\n",
            "13 Negima!?\n",
            "14 Shingeki no Bahamut: Genesis\n",
            "15 Shingeki no Bahamut: Genesis\n",
            "16 Toriko\n",
            "17 Hakugei Densetsu\n",
            "18 Watashi, Nouryoku wa Heikinchi de tte Itta yo ne!\n",
            "19 Arc the Lad\n",
            "20 Giniro no Olynsis: Tokito\n",
            "21 Triage X\n",
            "22 Cheonnyeon-yeowoo Yeowoobi\n",
            "23 Vampire Hunter D\n",
            "24 Koihime†Musou\n",
            "25 Dragon Half\n",
            "26 Holy Knight\n",
            "27 Seihou Bukyou Outlaw Star\n",
            "28 Hataage! Kemono Michi\n",
            "29 Hyper Police\n",
            "30 Blade\n",
            "31 Hai to Gensou no Grimgar\n",
            "32 Yu☆Gi☆Oh! Zexal\n",
            "33 Tales of Eternia The Animation\n",
            "34 Shingeki no Bahamut: Virgin Soul\n",
            "35 Kyuuketsuhime Miyu (TV)\n",
            "36 Mononoke\n",
            "37 Witch Hunter Robin\n",
            "38 Devil May Cry\n",
            "39 Cannon Busters\n",
            "40 Tetsuwan Birdy\n",
            "41 Fuse: Teppou Musume no Torimonochou\n",
            "42 Cowboy Bebop: Tengoku no Tobira\n",
            "43 Cowboy Bebop\n",
            "44 Grappler Baki (TV)\n",
            "45 Seirei no Moribito\n",
            "46 Wotaku ni Koi wa Muzukashii\n",
            "47 Ginga Tetsudou 999\n",
            "48 Death Note\n",
            "49 IDOLiSH7\n",
            "50 Murder Princess\n",
            "51 Samurai Deeper Kyou\n",
            "52 Wakaba*Girl\n",
            "53 Dragon Ball\n",
            "54 Aikatsu Stars!\n",
            "55 Saiyuuki\n",
            "56 Boukyaku no Senritsu\n",
            "57 Tears to Tiara\n",
            "58 Tales of Symphonia The Animation: Sylvarant-hen\n",
            "59 Shuumatsu Nani Shitemasu ka? Isogashii Desu ka? Sukutte Moratte Ii Desu ka?\n",
            "60 El Cazador de la Bruja\n",
            "61 Cheating Craft\n",
            "62 Mai-Otome\n",
            "63 School Days\n",
            "64 Hoshi wo Ou Kodomo\n",
            "65 Hiiro no Kakera\n",
            "66 Kamui no Ken\n",
            "67 Magi: The Kingdom of Magic\n",
            "68 Kino no Tabi: The Beautiful World\n",
            "69 Taimadou Gakuen 35 Shiken Shoutai\n",
            "70 Koukaku no Pandora\n",
            "71 Jinrui wa Suitai Shimashita\n",
            "72 Dungeon ni Deai wo Motomeru no wa Machigatteiru Darou ka\n",
            "73 Ao Oni The Animation\n",
            "74 Narutaru: Mukuro Naru Hoshi Tama Taru Ko\n",
            "75 Ganbarist! Shun\n",
            "76 Cross Road\n",
            "77 Seisen Cerberus: Ryuukoku no Fatalités\n",
            "78 Ansatsu Kyoushitsu\n",
            "79 Coyote Ragtime Show\n",
            "80 Hametsu no Mars\n",
            "81 Kemono Friends\n",
            "82 Yuu☆Yuu☆Hakusho\n",
            "83 Genius Party\n",
            "84 GetBackers\n",
            "85 Ninin ga Shinobuden\n",
            "86 Sore ga Seiyuu!\n",
            "87 Infinite Dendrogram\n",
            "88 Air\n",
            "89 Sora yori mo Tooi Basho\n",
            "90 Mahou Sensei Negima!\n",
            "91 Keijo!!!!!!!!\n",
            "92 Ga-Rei: Zero\n",
            "93 AKB0048\n",
            "94 Mahoutsukai ni Taisetsu na Koto: Natsu no Sora\n",
            "95 Rolling☆Girls\n",
            "96 Young Black Jack\n",
            "97 No Game No Life: Zero\n",
            "98 Gibiate\n",
            "99 Berserk\n",
            "-------------------------------------------------------------\n",
            "Getting recommendations for: Steins;Gate\n",
            "1 Steins;Gate 0\n",
            "2 Steins;Gate Movie: Fuka Ryouiki no Déjà vu\n",
            "3 Rikei ga Koi ni Ochita no de Shoumei shitemita.\n",
            "4 Tabisuru Nuigurumi: Traveling Daru\n",
            "5 Love Lab\n",
            "6 Key the Metal Idol\n",
            "7 Tsumiki no Ie\n",
            "8 Shikioriori\n",
            "9 Gilgamesh\n",
            "10 Seikimatsu Occult Gakuin\n",
            "11 Renkin San-kyuu Magical? Pokaan\n",
            "12 Ippatsu Kiki Musume\n",
            "13 Clannad: After Story\n",
            "14 Divine Gate\n",
            "15 3Ping Lovers!☆Ippu Nisai no Sekai e Youkoso♪ The Animation\n",
            "16 Uta∽Kata\n",
            "17 Higashi no Eden\n",
            "18 Robotics;Notes\n",
            "19 Tight-rope\n",
            "20 Kanojo to Kanojo no Neko: Everything Flows\n",
            "21 Toaru Kagaku no Accelerator\n",
            "22 Ueno-san wa Bukiyou\n",
            "23 Fruits Basket\n",
            "24 Imouto sae Ireba Ii.\n",
            "25 Boku no Chikyuu wo Mamotte\n",
            "26 Shion no Ou\n",
            "27 Narutaru: Mukuro Naru Hoshi Tama Taru Ko\n",
            "28 Gate: Jieitai Kanochi nite, Kaku Tatakaeri\n",
            "29 Koukaku Kidoutai: Stand Alone Complex\n",
            "30 Robot Girls Z\n",
            "31 Time Travel Shoujo: Mari Waka to 8-nin no Kagakusha-tachi\n",
            "32 Mazinkaiser\n",
            "33 Yuu☆Yuu☆Hakusho\n",
            "34 Yama no Susume\n",
            "35 Gakuen Saimin Reido\n",
            "36 Jikuu Tantei Genshi-kun\n",
            "37 ef: A Tale of Melodies.\n",
            "38 Boku dake ga Inai Machi\n",
            "39 Arata naru Sekai: World's/Start/Load/End\n",
            "40 Rewrite\n",
            "41 Kimi to Boku no Saigo no Senjou, Aruiwa Sekai ga Hajimaru Seisen\n",
            "42 Tayu Tayu\n",
            "43 Hisone to Maso-tan\n",
            "44 NHK ni Youkoso!\n",
            "45 W: Wish\n",
            "46 Ushinawareta Mirai wo Motomete\n",
            "47 Neon Genesis Evangelion\n",
            "48 Myself; Yourself\n",
            "49 Kanon\n",
            "50 Genshiken Nidaime\n",
            "51 Yotsunoha\n",
            "52 Kagaku Ninja-tai Gatchaman\n",
            "53 ChäoS;Child\n",
            "54 Ragnarök The Animation\n",
            "55 Fate/stay night Movie: Unlimited Blade Works\n",
            "56 Haunted Junction\n",
            "57 Girlfriend (Kari)\n",
            "58 s.CRY.ed\n",
            "59 Tensei shitara Slime Datta Ken\n",
            "60 Malice@Doll\n",
            "61 Hametsu no Mars\n",
            "62 Idol☆Sister\n",
            "63 Elfen Lied\n",
            "64 Tsui no Sora\n",
            "65 Fuuka\n",
            "66 Toji no Miko\n",
            "67 Crystal Blaze\n",
            "68 Saenai Heroine no Sodatekata\n",
            "69 Revisions\n",
            "70 Fate/stay night Movie: Heaven's Feel - II. Lost Butterfly\n",
            "71 Ore no Nounai Sentakushi ga, Gakuen Love Comedy wo Zenryoku de Jama Shiteiru\n",
            "72 Black★Rock Shooter (TV)\n",
            "73 Loups=Garous\n",
            "74 Darker than Black: Kuro no Keiyakusha\n",
            "75 Ryuugajou Nanana no Maizoukin (TV)\n",
            "76 Harukoi Otome\n",
            "77 Ginga Tetsudou 999 (Movie)\n",
            "78 Hyouka\n",
            "79 Starless: 21st Century Nymphomaniacs\n",
            "80 Sengoku Kitan Youtouden Movie\n",
            "81 Mechano: Scientific Attack Force\n",
            "82 Gate Keepers 21\n",
            "83 Kanojo ga Flag wo Oraretara\n",
            "84 Abashiri Ikka\n",
            "85 Chuunibyou demo Koi ga Shitai!\n",
            "86 IGPX: Immortal Grand Prix (2005)\n",
            "87 Mirai no Mirai\n",
            "88 Hyakuren no Haou to Seiyaku no Valkyria\n",
            "89 M3: Sono Kuroki Hagane\n",
            "90 Kyoushoku Soukou Guyver II\n",
            "91 Roujin Z\n",
            "92 Re:Zero kara Hajimeru Isekai Seikatsu\n",
            "93 Mesu Nochi Torare\n",
            "94 Youjo Senki\n",
            "95 Fairy Tail\n",
            "96 Hidamari Sketch\n",
            "97 Momo e no Tegami\n",
            "98 Z/X: Ignition\n",
            "99 Mawaru Penguindrum\n",
            "-------------------------------------------------------------\n"
          ]
        }
      ]
    },
    {
      "cell_type": "markdown",
      "source": [
        "Evaluates performance of system accross different numbers of recommended shows"
      ],
      "metadata": {
        "id": "O8h2IuN8Ifpb"
      }
    },
    {
      "cell_type": "code",
      "source": [
        "def experiment(retrieval_sizes, test_size):\n",
        "  for retrieval_size in retrieval_sizes:\n",
        "    knnbr = NearestNeighbors(n_neighbors = retrieval_size, metric = 'euclidean', algorithm = 'ball_tree').fit(tfidf_matrix)\n",
        "\n",
        "    test_set = df[0:test_size]\n",
        "    test_set = test_set.reset_index(drop=True)\n",
        "    test_set_matrix = tfidf_matrix[0:test_size]\n",
        "    test_set_matrix.reset_index(drop=True)\n",
        "    knn = knnbr.kneighbors(test_set_matrix)\n",
        "    test_set.insert(test_set.shape[1], 'recs', '')\n",
        "\n",
        "    for i, show_recs in enumerate(knn[1]):\n",
        "      test_set.at[i,'recs'] = (list(df.loc[show_recs, 'uid']))[1:]\n",
        "\n",
        "    precision, recall = get_precision_and_recall(test_set)\n",
        "    print('PRECISION with', retrieval_size, 'recommendations:', precision)\n",
        "    print('RECALL with', retrieval_size, 'recommendations:', recall)\n",
        "    "
      ],
      "metadata": {
        "id": "ftXYTBED1Oxc"
      },
      "execution_count": null,
      "outputs": []
    },
    {
      "cell_type": "code",
      "source": [
        "experiment([21, 41, 101], 100)"
      ],
      "metadata": {
        "id": "6I9kSoii2Sow",
        "colab": {
          "base_uri": "https://localhost:8080/"
        },
        "outputId": "5c57c9d6-c532-4c41-8284-9c38391b2d1f"
      },
      "execution_count": null,
      "outputs": [
        {
          "output_type": "stream",
          "name": "stdout",
          "text": [
            "PRECISION with 21 recommendations: 0.11100000000000002\n",
            "RECALL with 21 recommendations: 0.04114814509122469\n",
            "PRECISION with 41 recommendations: 0.09849999999999999\n",
            "RECALL with 41 recommendations: 0.0678132186565307\n",
            "PRECISION with 101 recommendations: 0.07680000000000001\n",
            "RECALL with 101 recommendations: 0.1349263579618883\n"
          ]
        }
      ]
    }
  ]
}